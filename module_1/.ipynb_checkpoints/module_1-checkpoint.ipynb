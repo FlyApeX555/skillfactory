{
 "cells": [
  {
   "cell_type": "code",
   "execution_count": 6,
   "metadata": {
    "_cell_guid": "b1076dfc-b9ad-4769-8c92-a6c4dae69d19",
    "_uuid": "8f2839f25d086af736a60e9eeb907d3b93b6e0e5",
    "colab": {},
    "colab_type": "code",
    "id": "U2D2gTdJVp90"
   },
   "outputs": [],
   "source": [
    "import numpy as np\n",
    "import pandas as pd\n",
    "import seaborn as sns\n",
    "import itertools\n",
    "import matplotlib.pyplot as plt\n",
    "from collections import Counter"
   ]
  },
  {
   "cell_type": "code",
   "execution_count": 7,
   "metadata": {
    "_cell_guid": "79c7e3d0-c299-4dcb-8224-4455121ee9b0",
    "_uuid": "d629ff2d2480ee46fbb7e2d37f6b5fab8052498a",
    "colab": {},
    "colab_type": "code",
    "id": "oyGfxL3eVp9-"
   },
   "outputs": [
    {
     "data": {
      "text/html": [
       "<div>\n",
       "<style scoped>\n",
       "    .dataframe tbody tr th:only-of-type {\n",
       "        vertical-align: middle;\n",
       "    }\n",
       "\n",
       "    .dataframe tbody tr th {\n",
       "        vertical-align: top;\n",
       "    }\n",
       "\n",
       "    .dataframe thead th {\n",
       "        text-align: right;\n",
       "    }\n",
       "</style>\n",
       "<table border=\"1\" class=\"dataframe\">\n",
       "  <thead>\n",
       "    <tr style=\"text-align: right;\">\n",
       "      <th></th>\n",
       "      <th>imdb_id</th>\n",
       "      <th>budget</th>\n",
       "      <th>revenue</th>\n",
       "      <th>original_title</th>\n",
       "      <th>cast</th>\n",
       "      <th>director</th>\n",
       "      <th>tagline</th>\n",
       "      <th>overview</th>\n",
       "      <th>runtime</th>\n",
       "      <th>genres</th>\n",
       "      <th>production_companies</th>\n",
       "      <th>release_date</th>\n",
       "      <th>vote_average</th>\n",
       "      <th>release_year</th>\n",
       "    </tr>\n",
       "  </thead>\n",
       "  <tbody>\n",
       "    <tr>\n",
       "      <th>977</th>\n",
       "      <td>tt1446714</td>\n",
       "      <td>130000000</td>\n",
       "      <td>403170142</td>\n",
       "      <td>Prometheus</td>\n",
       "      <td>Noomi Rapace|Michael Fassbender|Charlize Thero...</td>\n",
       "      <td>Ridley Scott</td>\n",
       "      <td>The Search for Our Beginning Could Lead to Our...</td>\n",
       "      <td>A team of explorers discover a clue to the ori...</td>\n",
       "      <td>124</td>\n",
       "      <td>Science Fiction|Adventure|Mystery</td>\n",
       "      <td>Twentieth Century Fox Film Corporation|Dune En...</td>\n",
       "      <td>5/30/2012</td>\n",
       "      <td>6.2</td>\n",
       "      <td>2012</td>\n",
       "    </tr>\n",
       "    <tr>\n",
       "      <th>763</th>\n",
       "      <td>tt1189340</td>\n",
       "      <td>40000000</td>\n",
       "      <td>85412898</td>\n",
       "      <td>The Lincoln Lawyer</td>\n",
       "      <td>Matthew McConaughey|Marisa Tomei|Ryan Phillipp...</td>\n",
       "      <td>Brad Furman</td>\n",
       "      <td>This Case is a Dangerous Game of Life and Death</td>\n",
       "      <td>A lawyer conducts business from the back of hi...</td>\n",
       "      <td>119</td>\n",
       "      <td>Crime|Drama|Thriller</td>\n",
       "      <td>Lakeshore Entertainment|Sidney Kimmel Entertai...</td>\n",
       "      <td>3/17/2011</td>\n",
       "      <td>6.9</td>\n",
       "      <td>2011</td>\n",
       "    </tr>\n",
       "  </tbody>\n",
       "</table>\n",
       "</div>"
      ],
      "text/plain": [
       "       imdb_id     budget    revenue      original_title  \\\n",
       "977  tt1446714  130000000  403170142          Prometheus   \n",
       "763  tt1189340   40000000   85412898  The Lincoln Lawyer   \n",
       "\n",
       "                                                  cast      director  \\\n",
       "977  Noomi Rapace|Michael Fassbender|Charlize Thero...  Ridley Scott   \n",
       "763  Matthew McConaughey|Marisa Tomei|Ryan Phillipp...   Brad Furman   \n",
       "\n",
       "                                               tagline  \\\n",
       "977  The Search for Our Beginning Could Lead to Our...   \n",
       "763    This Case is a Dangerous Game of Life and Death   \n",
       "\n",
       "                                              overview  runtime  \\\n",
       "977  A team of explorers discover a clue to the ori...      124   \n",
       "763  A lawyer conducts business from the back of hi...      119   \n",
       "\n",
       "                                genres  \\\n",
       "977  Science Fiction|Adventure|Mystery   \n",
       "763               Crime|Drama|Thriller   \n",
       "\n",
       "                                  production_companies release_date  \\\n",
       "977  Twentieth Century Fox Film Corporation|Dune En...    5/30/2012   \n",
       "763  Lakeshore Entertainment|Sidney Kimmel Entertai...    3/17/2011   \n",
       "\n",
       "     vote_average  release_year  \n",
       "977           6.2          2012  \n",
       "763           6.9          2011  "
      ]
     },
     "execution_count": 7,
     "metadata": {},
     "output_type": "execute_result"
    }
   ],
   "source": [
    "data = pd.read_csv('movie_bd_v5.xls')\n",
    "data.sample(2)"
   ]
  },
  {
   "cell_type": "code",
   "execution_count": 3,
   "metadata": {
    "colab": {},
    "colab_type": "code",
    "id": "CoYUnagMVp-C"
   },
   "outputs": [
    {
     "data": {
      "text/html": [
       "<div>\n",
       "<style scoped>\n",
       "    .dataframe tbody tr th:only-of-type {\n",
       "        vertical-align: middle;\n",
       "    }\n",
       "\n",
       "    .dataframe tbody tr th {\n",
       "        vertical-align: top;\n",
       "    }\n",
       "\n",
       "    .dataframe thead th {\n",
       "        text-align: right;\n",
       "    }\n",
       "</style>\n",
       "<table border=\"1\" class=\"dataframe\">\n",
       "  <thead>\n",
       "    <tr style=\"text-align: right;\">\n",
       "      <th></th>\n",
       "      <th>budget</th>\n",
       "      <th>revenue</th>\n",
       "      <th>runtime</th>\n",
       "      <th>vote_average</th>\n",
       "      <th>release_year</th>\n",
       "    </tr>\n",
       "  </thead>\n",
       "  <tbody>\n",
       "    <tr>\n",
       "      <th>count</th>\n",
       "      <td>1.889000e+03</td>\n",
       "      <td>1.889000e+03</td>\n",
       "      <td>1889.000000</td>\n",
       "      <td>1889.000000</td>\n",
       "      <td>1889.000000</td>\n",
       "    </tr>\n",
       "    <tr>\n",
       "      <th>mean</th>\n",
       "      <td>5.431083e+07</td>\n",
       "      <td>1.553653e+08</td>\n",
       "      <td>109.658549</td>\n",
       "      <td>6.140762</td>\n",
       "      <td>2007.860773</td>\n",
       "    </tr>\n",
       "    <tr>\n",
       "      <th>std</th>\n",
       "      <td>4.858721e+07</td>\n",
       "      <td>2.146698e+08</td>\n",
       "      <td>18.017041</td>\n",
       "      <td>0.764763</td>\n",
       "      <td>4.468841</td>\n",
       "    </tr>\n",
       "    <tr>\n",
       "      <th>min</th>\n",
       "      <td>5.000000e+06</td>\n",
       "      <td>2.033165e+06</td>\n",
       "      <td>63.000000</td>\n",
       "      <td>3.300000</td>\n",
       "      <td>2000.000000</td>\n",
       "    </tr>\n",
       "    <tr>\n",
       "      <th>25%</th>\n",
       "      <td>2.000000e+07</td>\n",
       "      <td>3.456058e+07</td>\n",
       "      <td>97.000000</td>\n",
       "      <td>5.600000</td>\n",
       "      <td>2004.000000</td>\n",
       "    </tr>\n",
       "    <tr>\n",
       "      <th>50%</th>\n",
       "      <td>3.800000e+07</td>\n",
       "      <td>8.361541e+07</td>\n",
       "      <td>107.000000</td>\n",
       "      <td>6.100000</td>\n",
       "      <td>2008.000000</td>\n",
       "    </tr>\n",
       "    <tr>\n",
       "      <th>75%</th>\n",
       "      <td>7.200000e+07</td>\n",
       "      <td>1.782626e+08</td>\n",
       "      <td>120.000000</td>\n",
       "      <td>6.600000</td>\n",
       "      <td>2012.000000</td>\n",
       "    </tr>\n",
       "    <tr>\n",
       "      <th>max</th>\n",
       "      <td>3.800000e+08</td>\n",
       "      <td>2.781506e+09</td>\n",
       "      <td>214.000000</td>\n",
       "      <td>8.100000</td>\n",
       "      <td>2015.000000</td>\n",
       "    </tr>\n",
       "  </tbody>\n",
       "</table>\n",
       "</div>"
      ],
      "text/plain": [
       "             budget       revenue      runtime  vote_average  release_year\n",
       "count  1.889000e+03  1.889000e+03  1889.000000   1889.000000   1889.000000\n",
       "mean   5.431083e+07  1.553653e+08   109.658549      6.140762   2007.860773\n",
       "std    4.858721e+07  2.146698e+08    18.017041      0.764763      4.468841\n",
       "min    5.000000e+06  2.033165e+06    63.000000      3.300000   2000.000000\n",
       "25%    2.000000e+07  3.456058e+07    97.000000      5.600000   2004.000000\n",
       "50%    3.800000e+07  8.361541e+07   107.000000      6.100000   2008.000000\n",
       "75%    7.200000e+07  1.782626e+08   120.000000      6.600000   2012.000000\n",
       "max    3.800000e+08  2.781506e+09   214.000000      8.100000   2015.000000"
      ]
     },
     "execution_count": 3,
     "metadata": {},
     "output_type": "execute_result"
    }
   ],
   "source": [
    "data.describe()"
   ]
  },
  {
   "cell_type": "markdown",
   "metadata": {
    "colab_type": "text",
    "id": "DTIt7ezGVp-G"
   },
   "source": [
    "# Предобработка"
   ]
  },
  {
   "cell_type": "code",
   "execution_count": 8,
   "metadata": {
    "colab": {},
    "colab_type": "code",
    "id": "jNb40DwKVp-H"
   },
   "outputs": [],
   "source": [
    "answers = {} # создадим словарь для ответов\n",
    "\n",
    "# преобразуем в формат даты-время\n",
    "data['release_date'] =  pd.to_datetime(data['release_date'])\n",
    "\n",
    "#Расчитываем и добавляем столбец со значениям прибыли/убытка в датафрейм\n",
    "data['profit'] = data['revenue'] - data['budget']\n",
    "\n",
    "\n",
    "#region создание списка жанров\n",
    "# создаем датафрейм со значениями наименований жанров\n",
    "tmp_df = data.genres.str.split('|', expand = True)\n",
    "\n",
    "# вычленяем уникальные значения всех жанров в список (список используется в 11 заданиях)\n",
    "genres_list = pd.unique(tmp_df.values.ravel())\n",
    "#endregion\n",
    "\n",
    "\n",
    "# добавляем месяца и сезоны (времена года в исходный датайрейм)\n",
    "data['release_date_M'] = data.release_date.apply(lambda x: x.strftime('%B'))\n",
    "data['release_season'] = data.release_date_M.apply(\n",
    "    lambda x : 'Summer' \n",
    "    if x in ['June', 'July', 'August'] \n",
    "    else 'Spring' \n",
    "    if x in ['March', 'April', 'May'] \n",
    "    else 'Autumn'\n",
    "    if x in ['September', 'October', 'November']\n",
    "    else 'Winter')"
   ]
  },
  {
   "cell_type": "markdown",
   "metadata": {
    "colab_type": "text",
    "id": "YxZaH-nPVp-L"
   },
   "source": [
    "# 1. У какого фильма из списка самый большой бюджет?"
   ]
  },
  {
   "cell_type": "markdown",
   "metadata": {
    "colab_type": "text",
    "id": "Nd-G5gX6Vp-M"
   },
   "source": [
    "Использовать варианты ответов в коде решения запрещено.    \n",
    "Вы думаете и в жизни у вас будут варианты ответов?)"
   ]
  },
  {
   "cell_type": "code",
   "execution_count": 9,
   "metadata": {
    "colab": {},
    "colab_type": "code",
    "id": "dZwb3m28Vp-S"
   },
   "outputs": [],
   "source": [
    "# Получаем строки у которых бюджет равен максимальному значению.\n",
    "a01_1 = data[data.budget == data.budget.max()].copy()\n",
    "\n",
    "# добавляем ответ в словарь\n",
    "answers['1'] = '{1} ({0})'.format(a01_1.iloc[0]['imdb_id'], a01_1.iloc[0]['original_title'])"
   ]
  },
  {
   "cell_type": "markdown",
   "metadata": {
    "colab_type": "text",
    "id": "K7L3nbRXVp-X"
   },
   "source": [
    "ВАРИАНТ 2"
   ]
  },
  {
   "cell_type": "code",
   "execution_count": 371,
   "metadata": {
    "colab": {},
    "colab_type": "code",
    "id": "OGaoQI7rVp-X"
   },
   "outputs": [],
   "source": [
    "# можно добавлять разные варианты решения\n",
    "a01_2 = data.query('budget == budget.max()')"
   ]
  },
  {
   "cell_type": "markdown",
   "metadata": {
    "colab_type": "text",
    "id": "FNRbbI3vVp-c"
   },
   "source": [
    "# 2. Какой из фильмов самый длительный (в минутах)?"
   ]
  },
  {
   "cell_type": "code",
   "execution_count": 10,
   "metadata": {
    "colab": {},
    "colab_type": "code",
    "id": "ot-VX2XrVp-g"
   },
   "outputs": [],
   "source": [
    "# Получаем строки у которых продолжительность равен максимальному значению.\n",
    "a02 = data[data.runtime == data.runtime.max()].copy()\n",
    "\n",
    "# добавляем ответ в словарь (применяем форматирование)\n",
    "answers['2'] = '{1} ({0})'.format(a02.iloc[0]['imdb_id'], a02.iloc[0]['original_title'])"
   ]
  },
  {
   "cell_type": "markdown",
   "metadata": {
    "colab_type": "text",
    "id": "bapLlpW8Vp-k"
   },
   "source": [
    "# 3. Какой из фильмов самый короткий (в минутах)?\n",
    "\n",
    "\n",
    "\n"
   ]
  },
  {
   "cell_type": "code",
   "execution_count": 11,
   "metadata": {
    "colab": {},
    "colab_type": "code",
    "id": "YBxaSHuAVp-l"
   },
   "outputs": [],
   "source": [
    "# Получаем строки у которых продолжительность равен минимальному значению.\n",
    "a03 = data[data.runtime == data.runtime.min()].copy()\n",
    "\n",
    "# добавляем ответ в словарь\n",
    "answers['3'] = '{1} ({0})'.format(a03.iloc[0]['imdb_id'], a03.iloc[0]['original_title'])"
   ]
  },
  {
   "cell_type": "markdown",
   "metadata": {
    "colab_type": "text",
    "id": "TfQbxbfNVp-p"
   },
   "source": [
    "# 4. Какова средняя длительность фильмов?\n"
   ]
  },
  {
   "cell_type": "code",
   "execution_count": 12,
   "metadata": {
    "colab": {},
    "colab_type": "code",
    "id": "5K6dKZYVVp-q"
   },
   "outputs": [],
   "source": [
    "# добавляем ответ в словарь (среднее значение всех длительностей)\n",
    "answers['4'] = round(data.runtime.mean())"
   ]
  },
  {
   "cell_type": "markdown",
   "metadata": {
    "colab_type": "text",
    "id": "r5TvbnT_Vp-u"
   },
   "source": [
    "# 5. Каково медианное значение длительности фильмов? "
   ]
  },
  {
   "cell_type": "code",
   "execution_count": 13,
   "metadata": {
    "colab": {},
    "colab_type": "code",
    "id": "iBROplKnVp-v"
   },
   "outputs": [],
   "source": [
    "# добавляем ответ в словарь (медианное значение всех длительностей)\n",
    "answers['5'] = round(data.runtime.median())"
   ]
  },
  {
   "cell_type": "markdown",
   "metadata": {
    "colab_type": "text",
    "id": "39P-deDSVp-y"
   },
   "source": [
    "# 6. Какой самый прибыльный фильм?\n",
    "#### Внимание! Здесь и далее под «прибылью» или «убытками» понимается разность между сборами и бюджетом фильма. (прибыль = сборы - бюджет) в нашем датасете это будет (profit = revenue - budget) "
   ]
  },
  {
   "cell_type": "code",
   "execution_count": 14,
   "metadata": {
    "colab": {},
    "colab_type": "code",
    "id": "UYZh4T9WVp-y"
   },
   "outputs": [],
   "source": [
    "# Получаем строки у которых прибыль равна максимальному значению.\n",
    "a06 = data[data.profit == data.profit.max()].copy()\n",
    "\n",
    "# добавляем ответ в словарь\n",
    "answers['6'] = '{1} ({0})'.format(a06.iloc[0]['imdb_id'], a06.iloc[0]['original_title'])"
   ]
  },
  {
   "cell_type": "markdown",
   "metadata": {
    "colab_type": "text",
    "id": "M99JmIX4Vp-2"
   },
   "source": [
    "# 7. Какой фильм самый убыточный? "
   ]
  },
  {
   "cell_type": "code",
   "execution_count": 15,
   "metadata": {
    "colab": {},
    "colab_type": "code",
    "id": "w-D2m4XPVp-3"
   },
   "outputs": [],
   "source": [
    "# Получаем строки у которых прибыль равна минимальному значению.\n",
    "a07 = data[data.profit == data.profit.min()].copy()\n",
    "\n",
    "# добавляем ответ в словарь\n",
    "answers['7'] = '{1} ({0})'.format(a07.iloc[0]['imdb_id'], a07.iloc[0]['original_title'])"
   ]
  },
  {
   "cell_type": "markdown",
   "metadata": {
    "colab_type": "text",
    "id": "wEOM5ERVVp-6"
   },
   "source": [
    "# 8. У скольких фильмов из датасета объем сборов оказался выше бюджета?"
   ]
  },
  {
   "cell_type": "code",
   "execution_count": 16,
   "metadata": {
    "colab": {},
    "colab_type": "code",
    "id": "y00_7HD6Vp-7"
   },
   "outputs": [],
   "source": [
    "# добавляем ответ в словарь фильмы у которых прибыль плюсовая\n",
    "answers['8'] = data[data.profit > 0]['profit'].count()"
   ]
  },
  {
   "cell_type": "markdown",
   "metadata": {
    "colab_type": "text",
    "id": "xhpspA9KVp_A"
   },
   "source": [
    "# 9. Какой фильм оказался самым кассовым в 2008 году?"
   ]
  },
  {
   "cell_type": "code",
   "execution_count": 17,
   "metadata": {
    "colab": {},
    "colab_type": "code",
    "id": "MoUyQr9RVp_B"
   },
   "outputs": [],
   "source": [
    "# сортируем датасет по кассовым сборам от большего к меньшему за 2008 год\n",
    "a09 = data[data['release_year'] == 2008].sort_values('revenue', ascending = False).copy()\n",
    "\n",
    "# добавляем ответ в словарь значения из первой строки датасета (наибольшее значение сборов)\n",
    "answers['9'] = '{1} ({0})'.format(a09.iloc[0]['imdb_id'], a09.iloc[0]['original_title'])"
   ]
  },
  {
   "cell_type": "markdown",
   "metadata": {
    "colab_type": "text",
    "id": "Zi4hDKidVp_F"
   },
   "source": [
    "# 10. Самый убыточный фильм за период с 2012 по 2014 г. (включительно)?\n"
   ]
  },
  {
   "cell_type": "code",
   "execution_count": 18,
   "metadata": {
    "colab": {},
    "colab_type": "code",
    "id": "XqyRmufJVp_F"
   },
   "outputs": [],
   "source": [
    "# сортируем датасет по прибыли от меньшего к большему за период 2012-2014 год\n",
    "a10 = data[(data['release_year'] >= 2012)&(data['release_year'] <= 2014)].sort_values('profit').copy()\n",
    "\n",
    "# добавляем ответ в словарь значения из первой строки датасета (наименьшее значение прибыли)\n",
    "answers['10'] = '{1} ({0})'.format(a10.iloc[0]['imdb_id'], a10.iloc[0]['original_title'])"
   ]
  },
  {
   "cell_type": "markdown",
   "metadata": {
    "colab_type": "text",
    "id": "EA7Sa9dkVp_I"
   },
   "source": [
    "# 11. Какого жанра фильмов больше всего?"
   ]
  },
  {
   "cell_type": "code",
   "execution_count": 19,
   "metadata": {
    "colab": {},
    "colab_type": "code",
    "id": "zsJAwJ8QVp_J"
   },
   "outputs": [],
   "source": [
    "# создаем словарь для записи значений выполнения цикла\n",
    "genres_count = {}\n",
    "\n",
    "for genre in genres_list:\n",
    "    # для каждого жанра считаем длину датафрейма, добавляем в словарь по ключу жанр\n",
    "    genres_count[genre] = len(data[data.genres.str.contains(str(genre))])\n",
    "    \n",
    "# добавляем ответ в словарь (ключ с максимальное значением)\n",
    "answers['11'] = list(genres_count.keys())[list(genres_count.values()).index(max(genres_count.values()))]"
   ]
  },
  {
   "cell_type": "markdown",
   "metadata": {
    "colab_type": "text",
    "id": "Ax6g2C8SVp_M"
   },
   "source": [
    "ВАРИАНТ 2"
   ]
  },
  {
   "cell_type": "code",
   "execution_count": 20,
   "metadata": {
    "colab": {},
    "colab_type": "code",
    "id": "otO3SbrSVp_N"
   },
   "outputs": [],
   "source": [
    "a11 = data.copy()\n",
    "\n",
    "# разбиваем по жанрам датафрейм\n",
    "a11['genres'] = a11['genres'].str.split('|')\n",
    "a11 = a11.explode('genres')\n",
    "\n",
    "# выделяем самый популярный\n",
    "answers['11'] = a11.genres.value_counts().index[0]"
   ]
  },
  {
   "cell_type": "markdown",
   "metadata": {
    "colab_type": "text",
    "id": "T9_bPWpkVp_Q"
   },
   "source": [
    "# 12. Фильмы какого жанра чаще всего становятся прибыльными?"
   ]
  },
  {
   "cell_type": "code",
   "execution_count": 54,
   "metadata": {},
   "outputs": [],
   "source": [
    "# имеется прибыль\n",
    "a12 = data[data.profit > 0].copy()\n",
    "\n",
    "a12['genres'] = a12['genres'].str.split('|')\n",
    "a12 = a12.explode('genres')\n",
    "\n",
    "answers['12'] = a12.genres.value_counts().index[0]"
   ]
  },
  {
   "cell_type": "markdown",
   "metadata": {
    "colab_type": "text",
    "id": "0F23bgsDVp_U"
   },
   "source": [
    "# 13. У какого режиссера самые большие суммарные кассовые сборы?"
   ]
  },
  {
   "cell_type": "code",
   "execution_count": 22,
   "metadata": {
    "colab": {},
    "colab_type": "code",
    "id": "K6Z3J8ygVp_X"
   },
   "outputs": [],
   "source": [
    "# Группируем датафрейм по режисеру и суммам кассовых сборов (КС), сортируем по суммам КС от большего к меньшему\n",
    "# добавляем ответ в словарь (первую строку с самой большой суммой КС)\n",
    "answers['13'] = data.groupby('director')['revenue'].sum().sort_values(ascending = False).index[0]"
   ]
  },
  {
   "cell_type": "markdown",
   "metadata": {
    "colab_type": "text",
    "id": "PsYC9FgRVp_a"
   },
   "source": [
    "# 14. Какой режисер снял больше всего фильмов в стиле Action?"
   ]
  },
  {
   "cell_type": "code",
   "execution_count": 23,
   "metadata": {
    "colab": {},
    "colab_type": "code",
    "id": "wd2M-wHeVp_b"
   },
   "outputs": [],
   "source": [
    "# создаем датафрейм со значениями режисеров\n",
    "df = data.director.str.split('|', expand = True).copy()\n",
    "\n",
    "# вычленяем уникальные значения всех Режисеров в список\n",
    "director_list = pd.unique(df.values.ravel())\n",
    "\n",
    "director_count = {}\n",
    "for director in director_list:\n",
    "    director_count[director] = data[(data.director.str.contains(str(director))) & (data.genres.str.contains('Action'))]['director'].count()\n",
    "\n",
    "answers['14'] = list(director_count.keys())[list(director_count.values()).index(max(director_count.values()))]"
   ]
  },
  {
   "cell_type": "markdown",
   "metadata": {
    "colab_type": "text",
    "id": "PQ0KciD7Vp_f"
   },
   "source": [
    "# 15. Фильмы с каким актером принесли самые высокие кассовые сборы в 2012 году? "
   ]
  },
  {
   "cell_type": "code",
   "execution_count": 24,
   "metadata": {
    "colab": {},
    "colab_type": "code",
    "id": "aga62oeKVp_g"
   },
   "outputs": [],
   "source": [
    "# датафрейм с фильтром по году выпуска фильма 2012\n",
    "a15 = data[(data['release_year'] == 2012)].copy()\n",
    "\n",
    "# фильтруем по максимальному КС, выделяем актеров\n",
    "a15 = a15[a15.revenue == a15.revenue.max()]['cast']\n",
    "\n",
    "# Series преобразуем в список и добавялем в ответ\n",
    "answers['15'] = list(a15.str.split('|'))"
   ]
  },
  {
   "cell_type": "markdown",
   "metadata": {
    "colab_type": "text",
    "id": "mWHyyL7QVp_j"
   },
   "source": [
    "# 16. Какой актер снялся в большем количестве высокобюджетных фильмов?"
   ]
  },
  {
   "cell_type": "code",
   "execution_count": 25,
   "metadata": {
    "colab": {},
    "colab_type": "code",
    "id": "qQtmHKTFVp_k"
   },
   "outputs": [],
   "source": [
    "# бюджет выше среднего\n",
    "a16 = data[data.budget > data.budget.mean()].copy()\n",
    "\n",
    "a16['cast'] = a16['cast'].str.split('|')\n",
    "a16 = a16.explode('cast')\n",
    "\n",
    "answers['16'] = a16.cast.value_counts().sort_values(ascending = False).index[0]"
   ]
  },
  {
   "cell_type": "markdown",
   "metadata": {
    "colab_type": "text",
    "id": "NIh6AaW5Vp_n"
   },
   "source": [
    "# 17. В фильмах какого жанра больше всего снимался Nicolas Cage? "
   ]
  },
  {
   "cell_type": "code",
   "execution_count": 26,
   "metadata": {
    "colab": {},
    "colab_type": "code",
    "id": "H74SJDIBVp_n"
   },
   "outputs": [],
   "source": [
    "# Датафрейм с фильмами в которых снимался Nicolas Cage\n",
    "a17 = data[data.cast.str.contains('Nicolas Cage')].copy()\n",
    "\n",
    "# переменные\n",
    "count = 0\n",
    "tg_genre = ''\n",
    "\n",
    "for genre in genres_list:\n",
    "    # проверяем длину датафрейма по каждому жанру\n",
    "    if count < len(a17[a17.genres.str.match(str(genre))]):\n",
    "        # обновляем переменную жанра и максимального количества совпадений в датафрейме по жанру\n",
    "        count = len(a17[a17.genres.str.contains(str(genre))])\n",
    "        tg_genre = genre\n",
    "\n",
    "answers['17'] = tg_genre"
   ]
  },
  {
   "cell_type": "code",
   "execution_count": 27,
   "metadata": {},
   "outputs": [],
   "source": [
    "# Датафрейм с фильмами в которых снимался Nicolas Cage\n",
    "a17_2 = data[data.cast.str.contains('Nicolas Cage')].copy()\n",
    "\n",
    "a17_2['genres'] = a17_2['genres'].str.split('|')\n",
    "a17_2 = a17_2.explode('genres')\n",
    "\n",
    "answers['17'] = a17_2.genres.value_counts().index[0]"
   ]
  },
  {
   "cell_type": "markdown",
   "metadata": {
    "colab_type": "text",
    "id": "RqOmPRfWVp_q"
   },
   "source": [
    "# 18. Самый убыточный фильм от Paramount Pictures"
   ]
  },
  {
   "cell_type": "code",
   "execution_count": 28,
   "metadata": {
    "colab": {},
    "colab_type": "code",
    "id": "9E_B0Y96Vp_r"
   },
   "outputs": [],
   "source": [
    "# сортируем датафрейм по производителю Paramount Pictures\n",
    "a18 = data[data.production_companies.str.contains('Paramount Pictures')].copy()\n",
    "\n",
    "# получаем минимальное значение прибыли (убыток)\n",
    "a18 = a18[a18.profit == a18.profit.min()]\n",
    "\n",
    "# добавлем ответ\n",
    "answers['18'] = '{1} ({0})'.format(a18.iloc[0]['imdb_id'], a18.iloc[0]['original_title'])"
   ]
  },
  {
   "cell_type": "markdown",
   "metadata": {
    "colab_type": "text",
    "id": "vS8Ur6ddVp_u"
   },
   "source": [
    "# 19. Какой год стал самым успешным по суммарным кассовым сборам?"
   ]
  },
  {
   "cell_type": "code",
   "execution_count": 29,
   "metadata": {
    "colab": {},
    "colab_type": "code",
    "id": "Dnbt4GdIVp_v"
   },
   "outputs": [],
   "source": [
    "answers['19'] = data.groupby(['release_year'])['revenue'].sum().sort_values(ascending=False).index[0]"
   ]
  },
  {
   "cell_type": "markdown",
   "metadata": {
    "colab_type": "text",
    "id": "JAzJh4QAVp_z"
   },
   "source": [
    "# 20. Какой самый прибыльный год для студии Warner Bros?"
   ]
  },
  {
   "cell_type": "code",
   "execution_count": 30,
   "metadata": {
    "colab": {},
    "colab_type": "code",
    "id": "wgVu02DEVp_0"
   },
   "outputs": [],
   "source": [
    "# все фильмы в создании которых учавствовал Warner Bros\n",
    "a20 = data[data['production_companies'].str.contains('Warner Bros')]\n",
    "\n",
    "# группируем по году выпуска и прибыли, суммируем и берем наибольшее\n",
    "answers['20'] = a20.groupby(['release_year'])['profit'].sum().sort_values(ascending=False).index[0]"
   ]
  },
  {
   "cell_type": "markdown",
   "metadata": {
    "colab_type": "text",
    "id": "8Im1S2HRVp_4"
   },
   "source": [
    "# 21. В каком месяце за все годы суммарно вышло больше всего фильмов?"
   ]
  },
  {
   "cell_type": "code",
   "execution_count": 31,
   "metadata": {
    "colab": {},
    "colab_type": "code",
    "id": "lev6TH7gVp_4"
   },
   "outputs": [],
   "source": [
    "a21 = data.copy()\n",
    "\n",
    "# обращаемся к колонке сформированной в предобработке (колонка с месяцами)\n",
    "answers['21'] = a21['release_date_M'].value_counts().index[0]"
   ]
  },
  {
   "cell_type": "markdown",
   "metadata": {
    "colab_type": "text",
    "id": "uAJsZ_NeVp_7"
   },
   "source": [
    "# 22. Сколько суммарно вышло фильмов летом? (за июнь, июль, август)"
   ]
  },
  {
   "cell_type": "code",
   "execution_count": 32,
   "metadata": {
    "colab": {},
    "colab_type": "code",
    "id": "Aa-hEREoVp_8"
   },
   "outputs": [],
   "source": [
    "# фильмы вышедшие летом\n",
    "a22 = data[data.release_season == 'Summer'].copy()\n",
    "\n",
    "answers['22'] = a22.release_season.count()"
   ]
  },
  {
   "cell_type": "markdown",
   "metadata": {
    "colab_type": "text",
    "id": "G94ppOY1VqAA"
   },
   "source": [
    "# 23. Для какого режиссера зима – самое продуктивное время года? "
   ]
  },
  {
   "cell_type": "code",
   "execution_count": 33,
   "metadata": {
    "colab": {},
    "colab_type": "code",
    "id": "RhNTsamuVqAB"
   },
   "outputs": [],
   "source": [
    "# фильмы вышедшие зимой\n",
    "a23 = data[data.release_season == 'Winter'].copy()\n",
    "\n",
    "a23['director'] = a23.director.str.split('|')\n",
    "a23=a23.explode('director')\n",
    "\n",
    "#  в ответ попал тот кто больше всех фильмом наснимал за зиму.\n",
    "answers['23'] = a23.director.value_counts().index[0]"
   ]
  },
  {
   "cell_type": "markdown",
   "metadata": {
    "colab_type": "text",
    "id": "RBo0JVjVVqAF"
   },
   "source": [
    "# 24. Какая студия дает самые длинные названия своим фильмам по количеству символов?"
   ]
  },
  {
   "cell_type": "code",
   "execution_count": 34,
   "metadata": {
    "colab": {},
    "colab_type": "code",
    "id": "QRGS8L0iVqAG"
   },
   "outputs": [],
   "source": [
    "a24 = data.copy()\n",
    "\n",
    "a24['production_companies'] = a24.production_companies.str.split('|')\n",
    "a24 = a24.explode('production_companies')\n",
    "\n",
    "# подсчитываем количество символов названия в отдельную колонку\n",
    "a24['original_title_len'] = a24['original_title'].apply(lambda x: len(str(x)))\n",
    "\n",
    "answers['24'] = a24.groupby(['production_companies'])['original_title_len'].mean().sort_values().index[-1]"
   ]
  },
  {
   "cell_type": "markdown",
   "metadata": {
    "colab_type": "text",
    "id": "9G0hbvR7VqAK"
   },
   "source": [
    "# 25. Описание фильмов какой студии в среднем самые длинные по количеству слов?"
   ]
  },
  {
   "cell_type": "code",
   "execution_count": 35,
   "metadata": {
    "colab": {},
    "colab_type": "code",
    "id": "Ge2GsLNxVqAK"
   },
   "outputs": [],
   "source": [
    "# подсчитываем количество символов описания в отдельную колонку\n",
    "a24['overview_len'] = a24['overview'].apply(lambda x: len(str(x)))\n",
    "\n",
    "answers['25'] = a24.groupby(['production_companies'])['overview_len'].mean().sort_values().index[-1]"
   ]
  },
  {
   "cell_type": "markdown",
   "metadata": {
    "colab_type": "text",
    "id": "FJ1AFt90VqAP"
   },
   "source": [
    "# 26. Какие фильмы входят в 1 процент лучших по рейтингу? \n",
    "по vote_average"
   ]
  },
  {
   "cell_type": "code",
   "execution_count": 37,
   "metadata": {
    "colab": {},
    "colab_type": "code",
    "id": "8qmJVq4CVqAQ"
   },
   "outputs": [],
   "source": [
    "a26 = data.copy()\n",
    "\n",
    "# определаем квантиль и берем его верхнюю часть\n",
    "a26 = a26[a26['vote_average'] > a26['vote_average'].quantile(q=0.99)]\n",
    "\n",
    "# сортируем по рейтингу и в ответ берем назавние\n",
    "answers['26'] = a26.sort_values(['vote_average'], ascending = False)['original_title']"
   ]
  },
  {
   "cell_type": "markdown",
   "metadata": {
    "colab_type": "text",
    "id": "MdXsUXbCVqAV"
   },
   "source": [
    "# 27. Какие актеры чаще всего снимаются в одном фильме вместе?\n"
   ]
  },
  {
   "cell_type": "code",
   "execution_count": 51,
   "metadata": {},
   "outputs": [],
   "source": [
    "a27 = data.copy()\n",
    "\n",
    "# разбиваем по актерам и сразу формируем пары.\n",
    "a27['cast'] = a27.cast.str.split('|').apply(lambda x: list(itertools.combinations(x, 2)))\n",
    "a27 = a27.explode('cast')\n",
    "\n",
    "answers['27'] = a27.cast.value_counts().index[0]"
   ]
  },
  {
   "cell_type": "markdown",
   "metadata": {
    "colab_type": "text",
    "id": "4ymnxEVoVqAW"
   },
   "source": [
    "ВАРИАНТ 2"
   ]
  },
  {
   "cell_type": "markdown",
   "metadata": {
    "colab_type": "text",
    "id": "U0nONFnGVqAX"
   },
   "source": [
    "# Submission"
   ]
  },
  {
   "cell_type": "code",
   "execution_count": 55,
   "metadata": {
    "colab": {},
    "colab_type": "code",
    "id": "IfcaRO9-VqAX",
    "outputId": "0f132912-32bb-4196-c98c-abfbc4ad5a5f"
   },
   "outputs": [
    {
     "data": {
      "text/plain": [
       "{'1': 'Pirates of the Caribbean: On Stranger Tides (tt1298650)',\n",
       " '2': 'Gods and Generals (tt0279111)',\n",
       " '3': 'Winnie the Pooh (tt1449283)',\n",
       " '4': 110,\n",
       " '5': 107,\n",
       " '6': 'Avatar (tt0499549)',\n",
       " '7': 'The Lone Ranger (tt1210819)',\n",
       " '8': 1478,\n",
       " '9': 'The Dark Knight (tt0468569)',\n",
       " '10': 'The Lone Ranger (tt1210819)',\n",
       " '11': 'Drama',\n",
       " '12': 'Drama',\n",
       " '13': 'Peter Jackson',\n",
       " '14': 'Robert Rodriguez',\n",
       " '15': [['Robert Downey Jr.',\n",
       "   'Chris Evans',\n",
       "   'Mark Ruffalo',\n",
       "   'Chris Hemsworth',\n",
       "   'Scarlett Johansson']],\n",
       " '16': 'Matt Damon',\n",
       " '17': 'Action',\n",
       " '18': 'K-19: The Widowmaker (tt0267626)',\n",
       " '19': 2015,\n",
       " '20': 2014,\n",
       " '21': 'September',\n",
       " '22': 450,\n",
       " '23': 'Peter Jackson',\n",
       " '24': 'Four By Two Productions',\n",
       " '25': 'Midnight Picture Show',\n",
       " '26': 599                                   The Dark Knight\n",
       " 9                                          Inside Out\n",
       " 34                                               Room\n",
       " 118                                      Interstellar\n",
       " 125                                The Imitation Game\n",
       " 119                           Guardians of the Galaxy\n",
       " 128                                         Gone Girl\n",
       " 138                          The Grand Budapest Hotel\n",
       " 370                                         Inception\n",
       " 872                                       The Pianist\n",
       " 1081    The Lord of the Rings: The Return of the King\n",
       " 1183                          The Wolf of Wall Street\n",
       " 1191                                 12 Years a Slave\n",
       " 1800                                          Memento\n",
       " Name: original_title, dtype: object,\n",
       " '27': ('Daniel Radcliffe', 'Rupert Grint')}"
      ]
     },
     "execution_count": 55,
     "metadata": {},
     "output_type": "execute_result"
    }
   ],
   "source": [
    "# в конце можно посмотреть свои ответы к каждому вопросу\n",
    "answers"
   ]
  },
  {
   "cell_type": "code",
   "execution_count": 56,
   "metadata": {
    "colab": {},
    "colab_type": "code",
    "id": "SiRmHPl8VqAd"
   },
   "outputs": [
    {
     "data": {
      "text/plain": [
       "27"
      ]
     },
     "execution_count": 56,
     "metadata": {},
     "output_type": "execute_result"
    }
   ],
   "source": [
    "# и убедиться что ни чего не пропустил)\n",
    "len(answers)"
   ]
  },
  {
   "cell_type": "code",
   "execution_count": 0,
   "metadata": {
    "colab": {},
    "colab_type": "code",
    "id": "uCfuTkRbVqAg"
   },
   "outputs": [],
   "source": []
  },
  {
   "cell_type": "code",
   "execution_count": 0,
   "metadata": {
    "colab": {},
    "colab_type": "code",
    "id": "Vwx3NrkSVqAl"
   },
   "outputs": [],
   "source": []
  }
 ],
 "metadata": {
  "colab": {
   "name": "Copy of [SF-DST] Movies IMBD v4.1 TEMPLATE.ipynb",
   "provenance": []
  },
  "kernelspec": {
   "display_name": "Python 3",
   "language": "python",
   "name": "python3"
  },
  "language_info": {
   "codemirror_mode": {
    "name": "ipython",
    "version": 3
   },
   "file_extension": ".py",
   "mimetype": "text/x-python",
   "name": "python",
   "nbconvert_exporter": "python",
   "pygments_lexer": "ipython3",
   "version": "3.8.5"
  }
 },
 "nbformat": 4,
 "nbformat_minor": 1
}

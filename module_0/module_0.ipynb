{
 "cells": [
  {
   "cell_type": "code",
   "execution_count": 3,
   "metadata": {},
   "outputs": [
    {
     "name": "stdout",
     "output_type": "stream",
     "text": [
      "Ваш алгоритм угадывает число в среднем за 5 попыток\n"
     ]
    }
   ],
   "source": [
    "import numpy as np\n",
    "\n",
    "def game_core_v3(number):\n",
    "  '''Сначала определяем среднее арифметическое суммы минимума и максимума нашего\n",
    "      диапазона, потом сужаем границы поиска, до тех пока функция не принимает \n",
    "      загаданное число и возвращает число попыток'''\n",
    "\n",
    "  count = 1   # счетчик попыток (первую попытку засчитываем)\n",
    "  min = 0; max = 100 # определяем верхние и нижние границы наших предположений (о загаданном числе)\n",
    "  predict = round((min + max)/2)  # определяем значение нашего предположения для первой попытки\n",
    "\n",
    "  while number != predict:\n",
    "    count+=1    # наращиваем число попыток с каждым проходом цикла\n",
    "    if number > predict: \n",
    "      min = predict   # если загаданое число больше нашего предположения, смешаем границу предположений переопределяя минимум\n",
    "      predict = round((min + max)/2)  # определяем значение нашего предположения равным среднему арифметическому min и max\n",
    "    else: \n",
    "      max = predict   # если загаданое число меньше нашего предположения, смешаем границу предположений переопределяя максимум\n",
    "      predict = round((min + max)/2)  # определяем значение нашего предположения равным среднему арифметическому min и max\n",
    "\n",
    "  return(count) # выход из цикла, если угадали\n",
    "\n",
    "\n",
    "def score_game(game_core):\n",
    "  '''Запускаем игру 1000 раз, чтобы узнать, как быстро игра угадывает число'''\n",
    "\n",
    "  count_ls = []       # создаем список для хранения данных количестве попыток\n",
    "  np.random.seed(1)   # фиксируем RANDOM SEED, чтобы ваш эксперимент был воспроизводим!\n",
    "  random_array = np.random.randint(1, 101, size=(1000))  # создаем массив случайных чисел в пределах от 1 до 100 (1000 штук)\n",
    "\n",
    "  for number in random_array:\n",
    "    count_ls.append(game_core(number))  # добавляем в список количество попыток, которое потребовалось на \"угадывание\" числа\n",
    "\n",
    "  score = int(np.mean(count_ls))        # высчитываем среднее арифмитическое значений списка\n",
    "  print(f\"Ваш алгоритм угадывает число в среднем за {score} попыток\")\n",
    "\n",
    "\n",
    "# проверяем\n",
    "score_game(game_core_v3)"
   ]
  }
 ],
 "metadata": {
  "kernelspec": {
   "display_name": "Python 3",
   "language": "python",
   "name": "python3"
  },
  "language_info": {
   "codemirror_mode": {
    "name": "ipython",
    "version": 3
   },
   "file_extension": ".py",
   "mimetype": "text/x-python",
   "name": "python",
   "nbconvert_exporter": "python",
   "pygments_lexer": "ipython3",
   "version": "3.8.5"
  }
 },
 "nbformat": 4,
 "nbformat_minor": 4
}
